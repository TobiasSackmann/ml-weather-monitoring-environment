{
 "cells": [
  {
   "cell_type": "code",
   "execution_count": null,
   "metadata": {},
   "outputs": [],
   "source": [
    "from influxdb_client import InfluxDBClient\n",
    "from dotenv import load_dotenv\n",
    "import os\n",
    "\n",
    "load_dotenv()\n",
    "# Verbindungsparameter\n",
    "# A modification in /etc/hosts might be required\n",
    "url = \"http://tig.influxdb.local\"\n",
    "\n",
    "token = os.getenv(\"INFLUXDB2_TOKEN\")\n",
    "org = os.getenv(\"INFLUXDB2_ORGANIZATION\")\n",
    "bucket = os.getenv(\"INFLUXDB2_BUCKET\")\n",
    "\n",
    "client = InfluxDBClient(url=url, token=token, org=org)\n",
    "\n",
    "# Testen der Verbindung\n",
    "try:\n",
    "    health = client.ready()\n",
    "    if health.status == \"ready\":\n",
    "        print(\"Verbindung erfolgreich!\")\n",
    "    else:\n",
    "        print(\"Verbindung fehlgeschlagen!\")\n",
    "except Exception as e:\n",
    "    print(\"Fehler beim Herstellen der Verbindung:\", e)"
   ]
  }
 ],
 "metadata": {
  "kernelspec": {
   "display_name": "Python 3",
   "language": "python",
   "name": "python3"
  },
  "language_info": {
   "codemirror_mode": {
    "name": "ipython",
    "version": 3
   },
   "file_extension": ".py",
   "mimetype": "text/x-python",
   "name": "python",
   "nbconvert_exporter": "python",
   "pygments_lexer": "ipython3",
   "version": "3.12.7"
  }
 },
 "nbformat": 4,
 "nbformat_minor": 2
}
