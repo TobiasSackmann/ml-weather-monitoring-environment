{
 "cells": [
  {
   "cell_type": "code",
   "execution_count": 17,
   "metadata": {},
   "outputs": [],
   "source": [
    "import mlflow\n",
    "import pickle\n",
    "import sys\n",
    "from sklearn.preprocessing import StandardScaler\n",
    "import pandas as pd\n",
    "from sklearn.ensemble import IsolationForest\n",
    "from sklearn.decomposition import PCA\n",
    "import matplotlib.pyplot as plt\n",
    "import numpy as np\n",
    "from dotenv import load_dotenv\n",
    "\n",
    "sys.path.insert(1, \"../library\")  # noqa: E402\n",
    "import database_helper  # noqa: E402"
   ]
  },
  {
   "cell_type": "code",
   "execution_count": null,
   "metadata": {},
   "outputs": [],
   "source": [
    "load_dotenv()\n",
    "# MLFLOW_TRACKING_USERNAME are set via dotenv\n",
    "# \"MLFLOW_TRACKING_PASSWORD are set via dotenv\n",
    "mlflow.set_tracking_uri(uri=\"http://mlflow.local:80\")\n",
    "mlflow.set_experiment(\"DWD Isolation Forest with PCA\")\n",
    "mlflow.autolog()"
   ]
  },
  {
   "cell_type": "code",
   "execution_count": null,
   "metadata": {},
   "outputs": [],
   "source": [
    "with open(\"selected_columns.pkl\", \"rb\") as f:\n",
    "    selected_columns = pickle.load(f)\n",
    "\n",
    "if selected_columns is None or len(selected_columns) > 100:\n",
    "    selected_columns = [\n",
    "        \"10838_days_0_precipitation\",\n",
    "        \"10838_days_0_sunrise\",\n",
    "        \"10838_days_0_sunset\",\n",
    "        \"10838_days_0_sunshine\",\n",
    "        \"10838_days_0_temperatureMax\",\n",
    "        \"10838_days_0_temperatureMin\",\n",
    "        \"10838_days_0_windDirection\",\n",
    "        \"10838_days_0_windGust\",\n",
    "        \"10838_days_0_windSpeed\",\n",
    "    ]\n",
    "\n",
    "dataframe = database_helper.query_data(field_list=selected_columns)\n",
    "dataframe[\"_time\"] = pd.to_datetime(dataframe[\"_time\"])\n",
    "dataframe.set_index(\"_time\", inplace=True)\n",
    "dataframe = dataframe.select_dtypes(include=\"float64\")\n",
    "dataframe.interpolate(inplace=True)\n",
    "display(dataframe)"
   ]
  },
  {
   "cell_type": "code",
   "execution_count": null,
   "metadata": {},
   "outputs": [],
   "source": [
    "scaler = StandardScaler()\n",
    "data_scaled = scaler.fit_transform(dataframe)\n",
    "display(data_scaled)"
   ]
  },
  {
   "cell_type": "code",
   "execution_count": null,
   "metadata": {},
   "outputs": [],
   "source": [
    "pca = PCA()\n",
    "threshold = 0.99\n",
    "data_pca = pca.fit(data_scaled)\n",
    "cumulative_explained_variance = np.cumsum(pca.explained_variance_ratio_)\n",
    "n_components = np.argmax(cumulative_explained_variance >= threshold) + 1\n",
    "\n",
    "pca_optimal = PCA(n_components=n_components)\n",
    "data_pca = pca_optimal.fit_transform(data_scaled)\n",
    "\n",
    "# Print the result\n",
    "print(f\"Components for 99% variance: {n_components}\")\n",
    "print(\"Shape of the transformed dataset:\", data_pca.shape)\n",
    "\n",
    "# Plot the explained variance\n",
    "plt.figure(figsize=(8, 6))\n",
    "plt.plot(\n",
    "    range(1, len(cumulative_explained_variance) + 1),\n",
    "    cumulative_explained_variance,\n",
    "    marker=\"o\",\n",
    "    linestyle=\"--\",\n",
    ")\n",
    "plt.axhline(y=threshold, color=\"r\", linestyle=\"-\")\n",
    "plt.xlabel(\"Number of Components\")\n",
    "plt.ylabel(\"Cumulative Explained Variance\")\n",
    "plt.title(\"Explained Variance by Principal Components\")\n",
    "plt.show()"
   ]
  },
  {
   "cell_type": "code",
   "execution_count": null,
   "metadata": {},
   "outputs": [],
   "source": [
    "# Fit the model\n",
    "model = IsolationForest(contamination=0.05)\n",
    "model.fit(data_pca)\n",
    "# Predict anomalies\n",
    "anomalies = model.predict(data_pca)\n",
    "# -1 for anomalies, 1 for normal instances\n",
    "dataframe[\"anomaly\"] = anomalies"
   ]
  },
  {
   "cell_type": "code",
   "execution_count": null,
   "metadata": {},
   "outputs": [],
   "source": [
    "# Get the anomaly data\n",
    "anomalies = dataframe[dataframe[\"anomaly\"] == -1]\n",
    "display(anomalies)\n",
    "# Visualize the anomalies (optional)\n",
    "if len(data_pca) > 0 and data_pca.shape[1] > 1:\n",
    "    plt.scatter(data_pca[:, 0], data_pca[:, 1], c=dataframe[\"anomaly\"], cmap=\"coolwarm\")\n",
    "    plt.xlabel(\"Principal Component 1\")\n",
    "    plt.ylabel(\"Principal Component 2\")\n",
    "    plt.title(\"Anomaly Detection using Isolation Forest\")\n",
    "    plt.show()"
   ]
  }
 ],
 "metadata": {
  "kernelspec": {
   "display_name": "Python 3",
   "language": "python",
   "name": "python3"
  },
  "language_info": {
   "codemirror_mode": {
    "name": "ipython",
    "version": 3
   },
   "file_extension": ".py",
   "mimetype": "text/x-python",
   "name": "python",
   "nbconvert_exporter": "python",
   "pygments_lexer": "ipython3",
   "version": "3.12.7"
  }
 },
 "nbformat": 4,
 "nbformat_minor": 2
}
