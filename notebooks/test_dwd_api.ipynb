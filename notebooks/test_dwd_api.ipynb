{
 "cells": [
  {
   "cell_type": "code",
   "execution_count": null,
   "metadata": {},
   "outputs": [],
   "source": [
    "import requests"
   ]
  },
  {
   "cell_type": "code",
   "execution_count": null,
   "metadata": {},
   "outputs": [],
   "source": [
    "# Die URL der REST-API, zu der du eine GET-Anfrage senden möchtest\n",
    "url = 'https://dwd.api.proxy.bund.dev/v30/stationOverviewExtended?stationIds=10838,10840' # ,G005,02730\n",
    "\n",
    "# Hat Ergebnisse: 10838 Kuhberg, 10840 Mähringen\n",
    "\n",
    "# Führe die GET-Anfrage aus\n",
    "response = requests.get(url)"
   ]
  },
  {
   "cell_type": "code",
   "execution_count": null,
   "metadata": {},
   "outputs": [],
   "source": [
    "# Überprüfe, ob die Anfrage erfolgreich war (Statuscode 200)\n",
    "if response.status_code == 200:\n",
    "    # Extrahiere die Daten aus der Antwort\n",
    "    data = response.json()  # Die Antwort ist JSON, daher verwenden wir response.json()\n",
    "    # Verarbeite die Daten weiter\n",
    "    display(data)\n",
    "else:\n",
    "    # Falls die Anfrage nicht erfolgreich war, gib eine Fehlermeldung aus\n",
    "    print(\"Fehler beim Abrufen der Daten. Statuscode:\", response.status_code)"
   ]
  }
 ],
 "metadata": {
  "kernelspec": {
   "display_name": ".venv",
   "language": "python",
   "name": "python3"
  },
  "language_info": {
   "codemirror_mode": {
    "name": "ipython",
    "version": 3
   },
   "file_extension": ".py",
   "mimetype": "text/x-python",
   "name": "python",
   "nbconvert_exporter": "python",
   "pygments_lexer": "ipython3",
   "version": "3.12.5"
  }
 },
 "nbformat": 4,
 "nbformat_minor": 2
}
