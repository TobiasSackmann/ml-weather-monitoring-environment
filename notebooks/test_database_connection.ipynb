{
 "cells": [
  {
   "cell_type": "code",
   "execution_count": 4,
   "metadata": {},
   "outputs": [
    {
     "name": "stdout",
     "output_type": "stream",
     "text": [
      "ready\n",
      "Verbindung erfolgreich!\n"
     ]
    }
   ],
   "source": [
    "from influxdb_client import InfluxDBClient, Point\n",
    "from influxdb_client.client.write_api import SYNCHRONOUS\n",
    "\n",
    "# Verbindungsparameter\n",
    "#url = \"http://192.168.178.147:8086\"\n",
    "url = 'http://tig.influxdb.local'\n",
    "token = \"securetoken\"\n",
    "org = \"influxdata\"\n",
    "bucket = \"default\"\n",
    "\n",
    "client = InfluxDBClient(url=url, token=token, org=org)\n",
    "\n",
    "# Testen der Verbindung\n",
    "try:\n",
    "    health = client.ready()\n",
    "    if health.status == 'ready':\n",
    "        print(\"Verbindung erfolgreich!\")\n",
    "    else:\n",
    "        print(\"Verbindung fehlgeschlagen!\")\n",
    "except Exception as e:\n",
    "    print(\"Fehler beim Herstellen der Verbindung:\", e)\n",
    "\n",
    "# Beispielabfrage\n",
    "query_api = client.query_api()\n",
    "query = 'from(bucket: \"%s\") |> range(start: -1h)' % bucket\n",
    "tables = query_api.query(query, org=org)\n",
    "for table in tables:\n",
    "    for row in table.records:\n",
    "        print(row.values)\n"
   ]
  }
 ],
 "metadata": {
  "kernelspec": {
   "display_name": ".venv",
   "language": "python",
   "name": "python3"
  },
  "language_info": {
   "codemirror_mode": {
    "name": "ipython",
    "version": 3
   },
   "file_extension": ".py",
   "mimetype": "text/x-python",
   "name": "python",
   "nbconvert_exporter": "python",
   "pygments_lexer": "ipython3",
   "version": "3.11.8"
  }
 },
 "nbformat": 4,
 "nbformat_minor": 2
}
