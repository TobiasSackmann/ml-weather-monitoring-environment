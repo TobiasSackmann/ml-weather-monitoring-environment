{
 "cells": [
  {
   "cell_type": "code",
   "execution_count": null,
   "metadata": {},
   "outputs": [],
   "source": [
    "from influxdb_client import InfluxDBClient, Point\n",
    "\n",
    "# Verbindungsparameter\n",
    "url = 'http://tig.influxdb.local' # A modification in /etc/hosts might be required\n",
    "token = \"securetoken\"\n",
    "org = \"influxdata\"\n",
    "bucket = \"default\"\n",
    "\n",
    "client = InfluxDBClient(url=url, token=token, org=org)\n",
    "\n",
    "# Testen der Verbindung\n",
    "try:\n",
    "    health = client.ready()\n",
    "    if health.status == 'ready':\n",
    "        print(\"Verbindung erfolgreich!\")\n",
    "    else:\n",
    "        print(\"Verbindung fehlgeschlagen!\")\n",
    "except Exception as e:\n",
    "    print(\"Fehler beim Herstellen der Verbindung:\", e)\n",
    "\n"
   ]
  }
 ],
 "metadata": {
  "kernelspec": {
   "display_name": ".venv",
   "language": "python",
   "name": "python3"
  },
  "language_info": {
   "codemirror_mode": {
    "name": "ipython",
    "version": 3
   },
   "file_extension": ".py",
   "mimetype": "text/x-python",
   "name": "python",
   "nbconvert_exporter": "python",
   "pygments_lexer": "ipython3",
   "version": "3.12.5"
  }
 },
 "nbformat": 4,
 "nbformat_minor": 2
}
