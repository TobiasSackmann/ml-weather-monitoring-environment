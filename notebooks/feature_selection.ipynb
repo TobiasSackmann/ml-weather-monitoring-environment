{
 "cells": [
  {
   "cell_type": "code",
   "execution_count": 1,
   "metadata": {},
   "outputs": [],
   "source": [
    "import seaborn as sns\n",
    "import pickle\n",
    "import sys\n",
    "import os\n",
    "from influxdb_client import InfluxDBClient\n",
    "from dotenv import load_dotenv\n",
    "sys.path.insert(1, '../library')  # noqa: E402\n",
    "import database_helper  # noqa: E402"
   ]
  },
  {
   "cell_type": "code",
   "execution_count": null,
   "metadata": {},
   "outputs": [],
   "source": [
    "load_dotenv()\n",
    "#  DB Connection Parameter\n",
    "#  A modification in /etc/hosts might be required\n",
    "url = 'http://tig.influxdb.local'\n",
    "token = os.getenv('INFLUXDB2_TOKEN')\n",
    "org = os.getenv('INFLUXDB2_ORGANIZATION')\n",
    "bucket = os.getenv('INFLUXDB2_BUCKET')\n",
    "\n",
    "client = InfluxDBClient(url=url, token=token, org=org)\n",
    "query_api = client.query_api()\n",
    "dataframe = database_helper.query_data(query_range=0.2)"
   ]
  },
  {
   "cell_type": "code",
   "execution_count": null,
   "metadata": {},
   "outputs": [],
   "source": [
    "print(\"Database Query returned: \" + str(len(dataframe)) + \" elements!\")\n",
    "display('Type: ' + str(type(dataframe)),\n",
    "        'Dataframe Shape: ' + str(dataframe.shape), dataframe.head())"
   ]
  },
  {
   "cell_type": "code",
   "execution_count": null,
   "metadata": {},
   "outputs": [],
   "source": [
    "# TODO: use polymomial instead of the default linear interpolation\n",
    "dataframe = dataframe.interpolate()\n",
    "cols_to_drop = dataframe.columns[dataframe.columns.str.contains('forecast')]\n",
    "dataframe.drop(cols_to_drop, axis=1, inplace=True)\n",
    "print(dataframe.dtypes.value_counts())\n",
    "display(dataframe.select_dtypes(include='float64').head(5))\n",
    "display(dataframe.select_dtypes(include='object').head(5))\n",
    "display(dataframe.select_dtypes(include='datetime64[ns, UTC]').head(5))\n",
    "display(dataframe.select_dtypes(include='int64').head(5))\n",
    "\n",
    "dataframe = dataframe.select_dtypes(include='float64')"
   ]
  },
  {
   "cell_type": "code",
   "execution_count": null,
   "metadata": {},
   "outputs": [],
   "source": [
    "nan_or_zero_present = dataframe.isnull().values.any() \\\n",
    "    or (dataframe == 0).values.any()\n",
    "print(\"Are there any NaN or zero values in the DataFrame?\")\n",
    "print(nan_or_zero_present)\n",
    "\n",
    "total_nan_or_zero_count = dataframe.isnull().sum().sum() \\\n",
    "    + (dataframe == 0).sum().sum()\n",
    "print(\"\\nTotal number of NaN or zero values in the DataFrame:\")\n",
    "print(total_nan_or_zero_count)"
   ]
  },
  {
   "cell_type": "code",
   "execution_count": null,
   "metadata": {},
   "outputs": [],
   "source": [
    "corr_matrix = dataframe.corr()\n",
    "print(type(corr_matrix))\n",
    "display(corr_matrix)\n",
    "display(sns.heatmap(corr_matrix))"
   ]
  },
  {
   "cell_type": "code",
   "execution_count": null,
   "metadata": {},
   "outputs": [],
   "source": [
    "all_nan_columns = corr_matrix.columns[corr_matrix.isna().all()]\n",
    "df_without_all_nan = corr_matrix.drop(columns=all_nan_columns)\n",
    "display(sns.heatmap(df_without_all_nan))"
   ]
  },
  {
   "cell_type": "code",
   "execution_count": null,
   "metadata": {},
   "outputs": [],
   "source": [
    "display(dataframe[all_nan_columns])\n",
    "display(dataframe.drop(columns=all_nan_columns))\n",
    "print(all_nan_columns)"
   ]
  },
  {
   "cell_type": "code",
   "execution_count": null,
   "metadata": {},
   "outputs": [],
   "source": [
    "# Identify columns with only one unique value (excluding NaN)\n",
    "one_value_columns = dataframe.columns[dataframe.nunique(dropna=True) == 1]\n",
    "print(\"\\nColumns that only have one unique value:\")\n",
    "display(dataframe[one_value_columns])\n",
    "display(dataframe.drop(columns=one_value_columns))\n",
    "feature_selection_df = dataframe.drop(columns=one_value_columns)\n",
    "display(sns.heatmap(feature_selection_df.corr()))\n",
    "\n",
    "print(type(feature_selection_df.columns), feature_selection_df.columns)"
   ]
  },
  {
   "cell_type": "code",
   "execution_count": null,
   "metadata": {},
   "outputs": [],
   "source": [
    "with open('selected_columns.pkl', 'wb') as f:\n",
    "    pickle.dump(feature_selection_df.columns.to_list(), f)\n"
   ]
  }
 ],
 "metadata": {
  "kernelspec": {
   "display_name": ".venv",
   "language": "python",
   "name": "python3"
  },
  "language_info": {
   "codemirror_mode": {
    "name": "ipython",
    "version": 3
   },
   "file_extension": ".py",
   "mimetype": "text/x-python",
   "name": "python",
   "nbconvert_exporter": "python",
   "pygments_lexer": "ipython3",
   "version": "3.13.1"
  }
 },
 "nbformat": 4,
 "nbformat_minor": 2
}
